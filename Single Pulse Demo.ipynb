{
 "cells": [
  {
   "cell_type": "markdown",
   "metadata": {},
   "source": [
    "# Demo of the single pulse spatial visualization"
   ]
  },
  {
   "cell_type": "code",
   "execution_count": 163,
   "metadata": {},
   "outputs": [
    {
     "name": "stdout",
     "output_type": "stream",
     "text": [
      "The autoreload extension is already loaded. To reload it, use:\n",
      "  %reload_ext autoreload\n"
     ]
    }
   ],
   "source": [
    "# Import necessary libraries\n",
    "import os\n",
    "import numpy as np\n",
    "import matplotlib.pyplot as plt\n",
    "import pandas as pd\n",
    "import seaborn as sns\n",
    "\n",
    "from helpers import *\n",
    "from single_pulse_functions import *\n",
    "from collections import defaultdict\n",
    "from itertools import product\n",
    "from scipy import signal, integrate\n",
    "\n",
    "%matplotlib inline\n",
    "%load_ext autoreload\n",
    "%autoreload 2"
   ]
  },
  {
   "cell_type": "code",
   "execution_count": 2,
   "metadata": {},
   "outputs": [],
   "source": [
    "# Load data\n",
    "LFP, stim_ind = load_LFP_data('C09_2018_11_08_A_LFP1.mat', 'LFP1')"
   ]
  },
  {
   "cell_type": "markdown",
   "metadata": {},
   "source": [
    "## Extracting the bandpower after stimulations\n",
    "\n",
    "I am doing this on a subset of the dataset by considering fewer stimulation responses to speed up the computation. In practice this should be done on the entire dataset.\n",
    "\n",
    "I extract the bandpower for each of the 96 channels of the Utah Array for the recordings. This first portion is shown using the Utah array"
   ]
  },
  {
   "cell_type": "code",
   "execution_count": 154,
   "metadata": {},
   "outputs": [],
   "source": [
    "# To make nested dictionaries\n",
    "tree = lambda: defaultdict(tree)\n",
    "results = tree()\n",
    "\n",
    "# Get useful constants for the loops\n",
    "channels = np.arange(96)\n",
    "fs = LFP['samplingFreq']\n",
    "n_inds = 150 # only look at the first 150 out of 1000 iterations of procedure 1\n",
    "band = [1, 30] # frequencies to bandpass, change as needed\n",
    "wtime=50\n",
    "baseline_time = 100\n",
    "art_time = 0 # not considering artifacts\n",
    "\n",
    "for channel in channels:\n",
    "    # z-score the signal\n",
    "    raw_signal = (LFP['LFP1'][channel, :])\n",
    "\n",
    "    # Band-pass the signal \n",
    "    b, a = signal.butter(2, [band[0], band[1]], btype='bp', fs=fs)\n",
    "    filtered_signal = signal.lfilter(b, a, raw_signal)\n",
    "   \n",
    "    # Remove the baseline and extract the signal after the pulse\n",
    "    baseline, _ = extract_baseline(filtered_signal, fs, stim_ind[:n_inds])\n",
    "    response = extract_stim_response(filtered_signal, fs, stim_ind[:n_inds], wtime=wtime, art_time=art_time, baseline=baseline )\n",
    "   \n",
    "    # Get the bandpower\n",
    "    bandpower = get_bandpower(response.flatten(), fs, band)\n",
    "\n",
    "    # Store information about the tiral\n",
    "    results[channel]['channel'] = channel + 1 # Since Matlab starts indexing at 1\n",
    "    results[channel]['band'] = str(band)\n",
    "    results[channel]['f_low'] = band[0]\n",
    "    results[channel]['f_high'] = band[1]\n",
    "    results[channel]['baseline_time'] = baseline_time\n",
    "    results[channel]['response_time'] = wtime\n",
    "    results[channel]['band_power'] = bandpower\n",
    "        \n",
    "# Convert dictionary to dataframe\n",
    "df = pd.DataFrame.from_records(results).T\n",
    "df = df.astype({'channel': 'int',\n",
    "                'band' : 'string', \n",
    "                'f_low' : 'float', \n",
    "                'f_high': 'float', \n",
    "                'baseline_time' : 'float',\n",
    "                'response_time' : 'float',\n",
    "                'band_power' : 'float'})\n",
    "\n",
    "# Append electrodes\n",
    "df = append_electrodes(df, 'utah')"
   ]
  },
  {
   "cell_type": "code",
   "execution_count": 155,
   "metadata": {},
   "outputs": [
    {
     "data": {
      "image/png": "[encoded data removed]",
      "text/plain": [
       "<Figure size 720x720 with 2 Axes>"
      ]
     },
     "metadata": {
      "needs_background": "light"
     },
     "output_type": "display_data"
    }
   ],
   "source": [
    "fig, ax = plt.subplots(figsize=(10,10))\n",
    "\n",
    "# Puts the values in the right orientation\n",
    "spatial_map = get_utah_spatial_map(df, 'band_power')\n",
    "\n",
    "# This actually plots it\n",
    "im = ax.imshow(spatial_map, cmap = 'YlGnBu', vmin=np.nanmin(spatial_map), vmax=np.nanmax(spatial_map))\n",
    "\n",
    "# Making the plot look better\n",
    "ax.set_title('Band-power of the Recordings in the Utah Array \\n Experiment 1', fontsize=18)\n",
    "ax.set_xticks([])\n",
    "ax.set_yticks([])\n",
    "cbar = fig.colorbar(im, shrink=0.8) \n",
    "cbar.set_label('Band-power',size=16)"
   ]
  },
  {
   "cell_type": "markdown",
   "metadata": {},
   "source": [
    "The next is an example using FMAs for recordings"
   ]
  },
  {
   "cell_type": "code",
   "execution_count": 159,
   "metadata": {},
   "outputs": [],
   "source": [
    "# Load data for FMA recordings\n",
    "LFP, stim_ind = load_LFP_data('C09_2018_10_25_D_LFP2.mat', 'LFP2')"
   ]
  },
  {
   "cell_type": "code",
   "execution_count": 162,
   "metadata": {},
   "outputs": [],
   "source": [
    "# To make nested dictionaries\n",
    "tree = lambda: defaultdict(tree)\n",
    "results = tree()\n",
    "\n",
    "# Get useful constants for the loops\n",
    "channels = np.arange(32)\n",
    "fs = LFP['samplingFreq']\n",
    "n_inds = 150 # only look at the first 150 out of 1000 iterations of procedure 1\n",
    "band = [1, 30] # frequencies to bandpass, change as needed\n",
    "wtime=50\n",
    "baseline_time = 100\n",
    "art_time = 0 # not considering artifacts\n",
    "\n",
    "for channel in channels:\n",
    "    # z-score the signal\n",
    "    raw_signal = (LFP['LFP2'][channel, :])\n",
    "\n",
    "    # Band-pass the signal \n",
    "    b, a = signal.butter(2, [band[0], band[1]], btype='bp', fs=fs)\n",
    "    filtered_signal = signal.lfilter(b, a, raw_signal)\n",
    "   \n",
    "    # Remove the baseline and extract the signal after the pulse\n",
    "    baseline, _ = extract_baseline(filtered_signal, fs, stim_ind[:n_inds])\n",
    "    response = extract_stim_response(filtered_signal, fs, stim_ind[:n_inds], wtime=wtime, art_time=art_time, baseline=baseline )\n",
    "   \n",
    "    # Get the bandpower\n",
    "    bandpower = get_bandpower(response.flatten(), fs, band)\n",
    "\n",
    "    # Store information about the tiral\n",
    "    results[channel]['channel'] = channel + 1 # Since Matlab starts indexing at 1\n",
    "    results[channel]['band'] = str(band)\n",
    "    results[channel]['f_low'] = band[0]\n",
    "    results[channel]['f_high'] = band[1]\n",
    "    results[channel]['baseline_time'] = baseline_time\n",
    "    results[channel]['response_time'] = wtime\n",
    "    results[channel]['band_power'] = bandpower\n",
    "        \n",
    "# Convert dictionary to dataframe\n",
    "df = pd.DataFrame.from_records(results).T\n",
    "df = df.astype({'channel': 'int',\n",
    "                'band' : 'string', \n",
    "                'f_low' : 'float', \n",
    "                'f_high': 'float', \n",
    "                'baseline_time' : 'float',\n",
    "                'response_time' : 'float',\n",
    "                'band_power' : 'float'})\n",
    "\n",
    "# Append electrodes\n",
    "df = append_electrodes(df, 'fma')"
   ]
  },
  {
   "cell_type": "code",
   "execution_count": 165,
   "metadata": {},
   "outputs": [
    {
     "data": {
      "image/png": "[encoded data removed]",
      "text/plain": [
       "<Figure size 576x432 with 2 Axes>"
      ]
     },
     "metadata": {
      "needs_background": "light"
     },
     "output_type": "display_data"
    }
   ],
   "source": [
    "fig, ax = plt.subplots(figsize=(8,6))\n",
    "\n",
    "# Puts the values in the right orientation\n",
    "spatial_map = get_fma_spatial_map(df, 'band_power')\n",
    "\n",
    "# This actually plots it\n",
    "im = ax.imshow(spatial_map, cmap = 'YlGnBu', vmin=np.nanmin(spatial_map), vmax=np.nanmax(spatial_map))\n",
    "\n",
    "# Making the plot look better\n",
    "ax.set_title('Band-power of the Recordings in the Utah Array \\n Experiment 1', fontsize=18)\n",
    "ax.set_xticks([])\n",
    "ax.set_yticks([])\n",
    "cbar = fig.colorbar(im, shrink=0.8) \n",
    "cbar.set_label('Band-power',size=16)"
   ]
  },
  {
   "cell_type": "code",
   "execution_count": null,
   "metadata": {},
   "outputs": [],
   "source": []
  }
 ],
 "metadata": {
  "kernelspec": {
   "display_name": "Python 3",
   "language": "python",
   "name": "python3"
  },
  "language_info": {
   "codemirror_mode": {
    "name": "ipython",
    "version": 3
   },
   "file_extension": ".py",
   "mimetype": "text/x-python",
   "name": "python",
   "nbconvert_exporter": "python",
   "pygments_lexer": "ipython3",
   "version": "3.8.3"
  }
 },
 "nbformat": 4,
 "nbformat_minor": 4
}
